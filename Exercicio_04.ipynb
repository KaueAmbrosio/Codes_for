{
  "nbformat": 4,
  "nbformat_minor": 0,
  "metadata": {
    "colab": {
      "provenance": []
    },
    "kernelspec": {
      "name": "python3",
      "display_name": "Python 3"
    },
    "language_info": {
      "name": "python"
    }
  },
  "cells": [
    {
      "cell_type": "code",
      "source": [
        "numero= int(input(\"Digite o número que vc quer saber da tabuada \"))\n",
        "for contador in range(11):\n",
        "  x = contador * numero\n",
        "  print(f\"{contador} X {numero} = {x}\")"
      ],
      "metadata": {
        "colab": {
          "base_uri": "https://localhost:8080/"
        },
        "id": "zcxqFOUeZxtd",
        "outputId": "59c8accb-f732-491f-b74b-b71444cd28ca"
      },
      "execution_count": 1,
      "outputs": [
        {
          "output_type": "stream",
          "name": "stdout",
          "text": [
            "Digite o número que vc quer saber da tabuada 6\n",
            "0 X 6 = 0\n",
            "1 X 6 = 6\n",
            "2 X 6 = 12\n",
            "3 X 6 = 18\n",
            "4 X 6 = 24\n",
            "5 X 6 = 30\n",
            "6 X 6 = 36\n",
            "7 X 6 = 42\n",
            "8 X 6 = 48\n",
            "9 X 6 = 54\n",
            "10 X 6 = 60\n"
          ]
        }
      ]
    }
  ]
}