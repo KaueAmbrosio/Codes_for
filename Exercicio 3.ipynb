{
  "nbformat": 4,
  "nbformat_minor": 0,
  "metadata": {
    "colab": {
      "provenance": []
    },
    "kernelspec": {
      "name": "python3",
      "display_name": "Python 3"
    },
    "language_info": {
      "name": "python"
    }
  },
  "cells": [
    {
      "cell_type": "code",
      "execution_count": null,
      "metadata": {
        "id": "gptlL6-nZLKU"
      },
      "outputs": [],
      "source": [
        "soma = 0\n",
        "for i in range(5):\n",
        "  numero = float(input(f\"Digite o {i+1}º numero: \"))\n",
        "  soma += numero\n",
        "  media = soma/5\n",
        "\n",
        "print(f\"A soma dos números é: {soma}\")\n",
        "print(f\"A media dos números é: {media}\")"
      ]
    }
  ]
}