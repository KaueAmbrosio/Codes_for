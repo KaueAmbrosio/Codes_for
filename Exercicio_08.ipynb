{
  "nbformat": 4,
  "nbformat_minor": 0,
  "metadata": {
    "colab": {
      "provenance": []
    },
    "kernelspec": {
      "name": "python3",
      "display_name": "Python 3"
    },
    "language_info": {
      "name": "python"
    }
  },
  "cells": [
    {
      "cell_type": "code",
      "source": [
        "i= int(input( \"digite o primeiro numero \"))\n",
        "u= int(input( \"digite o segundo numero \"))\n",
        "\n",
        "for y in range(i+1,u):\n",
        "  print(y)\n"
      ],
      "metadata": {
        "colab": {
          "base_uri": "https://localhost:8080/"
        },
        "id": "cpcI6E1zaOmf",
        "outputId": "09db0d9e-016e-4881-eb24-3ce423873e82"
      },
      "execution_count": 11,
      "outputs": [
        {
          "output_type": "stream",
          "name": "stdout",
          "text": [
            "digite o primeiro numero 4\n",
            "digite o segundo numero 7\n",
            "5\n",
            "6\n"
          ]
        }
      ]
    }
  ]
}