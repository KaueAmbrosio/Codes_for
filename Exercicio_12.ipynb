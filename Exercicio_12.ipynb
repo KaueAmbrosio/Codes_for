{
  "nbformat": 4,
  "nbformat_minor": 0,
  "metadata": {
    "colab": {
      "provenance": []
    },
    "kernelspec": {
      "name": "python3",
      "display_name": "Python 3"
    },
    "language_info": {
      "name": "python"
    }
  },
  "cells": [
    {
      "cell_type": "code",
      "source": [
        "for e in range(999999):\n",
        "  x= int(input(\"Digite sua nota \"))\n",
        "  if x > 10 or x < 0:\n",
        "   print(\"valor invalido, tente novamente.\")\n",
        "  else:\n",
        "   print( \"Valor valido.\")\n",
        "   break"
      ],
      "metadata": {
        "colab": {
          "base_uri": "https://localhost:8080/"
        },
        "id": "NrxFo0LOb8or",
        "outputId": "b5471de8-340e-4a3e-89dc-4dd8f895e995"
      },
      "execution_count": 17,
      "outputs": [
        {
          "output_type": "stream",
          "name": "stdout",
          "text": [
            "Digite sua nota 10\n",
            "Valor valido.\n"
          ]
        }
      ]
    }
  ]
}