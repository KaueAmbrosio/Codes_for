{
  "nbformat": 4,
  "nbformat_minor": 0,
  "metadata": {
    "colab": {
      "provenance": []
    },
    "kernelspec": {
      "name": "python3",
      "display_name": "Python 3"
    },
    "language_info": {
      "name": "python"
    }
  },
  "cells": [
    {
      "cell_type": "code",
      "source": [
        "valor = float(input(\"Digite o valor da compra \"))\n",
        "contagem = 1\n",
        "\n",
        "if valor >= 600 and contagem:\n",
        " reduzido = valor - 500\n",
        " if reduzido >= 100 or contagem <= 24:\n",
        "  for x in range(999):\n",
        "   contagem += 1\n",
        "   reduzido -= 100\n",
        "   if reduzido < 100 or contagem == 24:\n",
        "    break\n",
        "\n",
        "porcentagem = contagem/100\n",
        "desconto = valor * porcentagem\n",
        "final = valor - desconto\n",
        "print(f\"O produto de R$ {valor:.2f} ficara a partir de R${final} com {contagem:.0f}% de desconto\")\n"
      ],
      "metadata": {
        "colab": {
          "base_uri": "https://localhost:8080/"
        },
        "id": "NrxFo0LOb8or",
        "outputId": "8c64b9a4-5c2a-4c93-a08f-cd8ed070c0ef"
      },
      "execution_count": 19,
      "outputs": [
        {
          "output_type": "stream",
          "name": "stdout",
          "text": [
            "Digite o valor da compra 1000\n",
            "O produto de R$ 1000.00 ficara a partir de R$940.0 com 6% de desconto\n"
          ]
        }
      ]
    }
  ]
}