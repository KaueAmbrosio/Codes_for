{
  "nbformat": 4,
  "nbformat_minor": 0,
  "metadata": {
    "colab": {
      "provenance": []
    },
    "kernelspec": {
      "name": "python3",
      "display_name": "Python 3"
    },
    "language_info": {
      "name": "python"
    }
  },
  "cells": [
    {
      "cell_type": "code",
      "source": [
        "numero = int(input(\"Escreva algum numero inteiro: \"))\n",
        "if numero == 1 or numero == 2:\n",
        "    print(f\"{numero} e primo, e nao foi preciso nenhuma divisao. \")\n",
        "elif numero % 2 == 0:\n",
        "    print(f\"{numero} nao e primo, e foi executado uma divisao para descobrir isso. \")\n",
        "else:\n",
        "    contador = 1\n",
        "    primo = True\n",
        "    for chicomoedas in range(3, numero, 2 ):\n",
        "            contador +=1\n",
        "            if numero % chicomoedas == 0:\n",
        "                primo = False\n",
        "                break\n",
        "    if primo:\n",
        "        print(f\"{numero} e primo e foram executadas {chicomoeda} divisoes \")\n",
        "    else:\n",
        "        print(f\"{numero} nao e primo e foram executadas {chicomoedas} divisoes |\")"
      ],
      "metadata": {
        "colab": {
          "base_uri": "https://localhost:8080/"
        },
        "id": "NrxFo0LOb8or",
        "outputId": "71675abc-87b5-4714-fc15-28cc4c0a1548"
      },
      "execution_count": 24,
      "outputs": [
        {
          "output_type": "stream",
          "name": "stdout",
          "text": [
            "Escreva algum numero inteiro: 150\n",
            "150 nao e primo, e foi executado uma divisao para descobrir isso. \n"
          ]
        }
      ]
    }
  ]
}