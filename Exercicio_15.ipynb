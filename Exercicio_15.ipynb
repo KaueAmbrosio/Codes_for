{
  "nbformat": 4,
  "nbformat_minor": 0,
  "metadata": {
    "colab": {
      "provenance": []
    },
    "kernelspec": {
      "name": "python3",
      "display_name": "Python 3"
    },
    "language_info": {
      "name": "python"
    }
  },
  "cells": [
    {
      "cell_type": "code",
      "source": [
        "x = int(input(\"Coloque a base \"))\n",
        "y = int(input(\"Coloque o expoente \"))\n",
        "\n",
        "for i in range(1):\n",
        "\n",
        "  total = x ** y\n",
        "\n",
        "print(f\"O resultado é: {total}\")\n"
      ],
      "metadata": {
        "colab": {
          "base_uri": "https://localhost:8080/"
        },
        "id": "NrxFo0LOb8or",
        "outputId": "d9f1a06f-7566-4bbd-bd38-e3cb773c0e59"
      },
      "execution_count": 21,
      "outputs": [
        {
          "output_type": "stream",
          "name": "stdout",
          "text": [
            "Coloque a base 15\n",
            "Coloque o expoente 10\n",
            "O resultado é: 576650390625\n"
          ]
        }
      ]
    }
  ]
}