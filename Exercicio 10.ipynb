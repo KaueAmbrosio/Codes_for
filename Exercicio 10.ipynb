{
  "nbformat": 4,
  "nbformat_minor": 0,
  "metadata": {
    "colab": {
      "provenance": []
    },
    "kernelspec": {
      "name": "python3",
      "display_name": "Python 3"
    },
    "language_info": {
      "name": "python"
    }
  },
  "cells": [
    {
      "cell_type": "code",
      "source": [
        "par = 0\n",
        "impar = 0\n",
        "\n",
        "for bebel in range(10):\n",
        "  numero= int(input(f\"Digite o {bebel+1}º numero \"))\n",
        "  if numero %2 == 0:\n",
        "    par +=1\n",
        "  else:\n",
        "    impar +=1\n",
        "print(f\"numeros impares: {impar}, numeros pares: {par}\")"
      ],
      "metadata": {
        "colab": {
          "base_uri": "https://localhost:8080/"
        },
        "id": "NrxFo0LOb8or",
        "outputId": "cce97523-6e3d-4f90-e6c6-db09fdc28568"
      },
      "execution_count": 15,
      "outputs": [
        {
          "output_type": "stream",
          "name": "stdout",
          "text": [
            "Digite o 1º numero 50\n",
            "Digite o 2º numero 100\n",
            "Digite o 3º numero 100\n",
            "Digite o 4º numero 100\n",
            "Digite o 5º numero 34\n",
            "Digite o 6º numero 54\n",
            "Digite o 7º numero 42\n",
            "Digite o 8º numero 23\n",
            "Digite o 9º numero 23\n",
            "Digite o 10º numero 455\n",
            "numeros impares: 3, numeros pares: 7\n"
          ]
        }
      ]
    }
  ]
}