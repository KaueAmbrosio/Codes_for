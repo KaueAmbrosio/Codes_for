{
  "nbformat": 4,
  "nbformat_minor": 0,
  "metadata": {
    "colab": {
      "provenance": []
    },
    "kernelspec": {
      "name": "python3",
      "display_name": "Python 3"
    },
    "language_info": {
      "name": "python"
    }
  },
  "cells": [
    {
      "cell_type": "code",
      "execution_count": 13,
      "metadata": {
        "colab": {
          "base_uri": "https://localhost:8080/"
        },
        "id": "xRL1PHxwNLxm",
        "outputId": "5cf45c7f-00f2-46d3-c686-33ca9f633b12"
      },
      "outputs": [
        {
          "output_type": "stream",
          "name": "stdout",
          "text": [
            "digite o numero 3\n",
            "digite o numero 4\n",
            "digite o numero 7\n",
            "digite o numero 9\n",
            "digite o numero 8\n",
            "O maior numero é  9.0\n"
          ]
        }
      ],
      "source": [
        "maior_numero= 0\n",
        "for i in range(5): #rode esse codigo 5 vezes\n",
        "  numero= float(input( \"digite o numero \"))\n",
        "  if numero > maior_numero:\n",
        "    maior_numero = numero\n",
        "print(\"O maior numero é \", maior_numero)\n"
      ]
    }
  ]
}