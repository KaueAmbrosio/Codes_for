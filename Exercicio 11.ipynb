{
  "nbformat": 4,
  "nbformat_minor": 0,
  "metadata": {
    "colab": {
      "provenance": []
    },
    "kernelspec": {
      "name": "python3",
      "display_name": "Python 3"
    },
    "language_info": {
      "name": "python"
    }
  },
  "cells": [
    {
      "cell_type": "code",
      "source": [
        "salario = float(input(\"Digite o salario inicial do funcionario: \"))\n",
        "percentual = 0.015\n",
        "\n",
        "for i in range(1996, 2025):\n",
        " aumento = salario * percentual\n",
        " salario += aumento\n",
        " percentual *= 2\n",
        " print(f\"salario em {i} = {salario:.2F}\")"
      ],
      "metadata": {
        "colab": {
          "base_uri": "https://localhost:8080/"
        },
        "id": "NrxFo0LOb8or",
        "outputId": "9b2998c1-23a5-405a-d744-10d88df945ce"
      },
      "execution_count": 16,
      "outputs": [
        {
          "output_type": "stream",
          "name": "stdout",
          "text": [
            "Digite o salario inicial do funcionario: 1000\n",
            "salario em 1996 = 1015.00\n",
            "salario em 1997 = 1045.45\n",
            "salario em 1998 = 1108.18\n",
            "salario em 1999 = 1241.16\n",
            "salario em 2000 = 1539.04\n",
            "salario em 2001 = 2277.77\n",
            "salario em 2002 = 4464.44\n",
            "salario em 2003 = 13036.15\n",
            "salario em 2004 = 63094.98\n",
            "salario em 2005 = 547664.47\n",
            "salario em 2006 = 8959790.69\n",
            "salario em 2007 = 284204560.82\n",
            "salario em 2008 = 17745732777.31\n",
            "salario em 2009 = 2198341376453.00\n",
            "salario em 2010 = 542462718053542.19\n",
            "salario em 2011 = 267173737895730592.00\n",
            "salario em 2012 = 262909645038914699264.00\n",
            "salario em 2013 = 517164304563148312018944.00\n",
            "salario em 2014 = 2034089956135592355082272768.00\n",
            "salario em 2015 = 15998768413792396533288497315840.00\n",
            "salario em 2016 = 251654867592325433880764780338216960.00\n",
            "salario em 2017 = 7916629288082299627197923665876621459456.00\n",
            "salario em 2018 = 498079164972099231500831130952899538079186944.00\n",
            "salario em 2019 = 62673361097939047128369603216519565598853735383040.00\n",
            "salario em 2020 = 15772330422152904879813669471476743110304999867596931072.00\n",
            "salario em 2021 = 7938489601805336068635772326082728232002794894148337456381952.00\n",
            "salario em 2022 = 7991153224284128798258150233991349427319130527005635733005380091904.00\n",
            "salario em 2023 = 16088324439102575290435630651444932919564627342328716299616484873371385856.00\n",
            "salario em 2024 = 64780166694621097717661435651754373841996112945846734312267054465902060362530816.00\n"
          ]
        }
      ]
    }
  ]
}