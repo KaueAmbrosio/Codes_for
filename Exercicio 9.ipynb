{
  "nbformat": 4,
  "nbformat_minor": 0,
  "metadata": {
    "colab": {
      "provenance": []
    },
    "kernelspec": {
      "name": "python3",
      "display_name": "Python 3"
    },
    "language_info": {
      "name": "python"
    }
  },
  "cells": [
    {
      "cell_type": "code",
      "source": [
        "4lojab = 54000\n",
        "lojaa = 0\n",
        "\n",
        "for cliente in range(5):\n",
        "  gasto = float(input(f\"Digite o valor gasto do cliente {cliente+1} \"))\n",
        "  lojaa += gasto\n",
        "\n",
        "if lojaa > lojab:\n",
        "  print(f\" A loja a superou o faturamento da loja b por {lojaa - lojab} R$ \")\n",
        "elif lojab > lojaa:\n",
        "  print(f\" A loja b superou o faturamento da loja a por {lojab - lojaa} R$ \")\n",
        "else:\n",
        "  print(\"As duas lojas arrecadaram o mesmo valor.\")\n"
      ],
      "metadata": {
        "id": "NrxFo0LOb8or",
        "outputId": "38266cce-eed7-4e0b-d75e-5a0bebf9519b",
        "colab": {
          "base_uri": "https://localhost:8080/"
        }
      },
      "execution_count": 14,
      "outputs": [
        {
          "output_type": "stream",
          "name": "stdout",
          "text": [
            "Digite o valor gasto do cliente 1 1000\n",
            "Digite o valor gasto do cliente 2 1555\n",
            "Digite o valor gasto do cliente 3 155\n",
            "Digite o valor gasto do cliente 4 15555\n",
            "Digite o valor gasto do cliente 5 133\n",
            " A loja b superou o faturamento da loja a por 35602.0 R$ \n"
          ]
        }
      ]
    }
  ]
}